{
  "cells": [
    {
      "cell_type": "code",
      "execution_count": null,
      "id": "23a5c8f4",
      "metadata": {
        "id": "23a5c8f4",
        "outputId": "e74ce94d-7a10-4d44-92e9-6f809fa601b4"
      },
      "outputs": [
        {
          "name": "stdout",
          "output_type": "stream",
          "text": [
            "   label  pixel1  pixel2  pixel3  pixel4  pixel5  pixel6  pixel7  pixel8  \\\n",
            "0      3     107     118     127     134     139     143     146     150   \n",
            "1      6     155     157     156     156     156     157     156     158   \n",
            "2      2     187     188     188     187     187     186     187     188   \n",
            "3      2     211     211     212     212     211     210     211     210   \n",
            "4     13     164     167     170     172     176     179     180     184   \n",
            "\n",
            "   pixel9  ...  pixel775  pixel776  pixel777  pixel778  pixel779  pixel780  \\\n",
            "0     153  ...       207       207       207       207       206       206   \n",
            "1     158  ...        69       149       128        87        94       163   \n",
            "2     187  ...       202       201       200       199       198       199   \n",
            "3     210  ...       235       234       233       231       230       226   \n",
            "4     185  ...        92       105       105       108       133       163   \n",
            "\n",
            "   pixel781  pixel782  pixel783  pixel784  \n",
            "0       206       204       203       202  \n",
            "1       175       103       135       149  \n",
            "2       198       195       194       195  \n",
            "3       225       222       229       163  \n",
            "4       157       163       164       179  \n",
            "\n",
            "[5 rows x 785 columns]\n",
            "Dataset shape: (27455, 785)\n",
            "Unique classes and their counts:\n",
            "17    1294\n",
            "16    1279\n",
            "11    1241\n",
            "22    1225\n",
            "5     1204\n",
            "18    1199\n",
            "3     1196\n",
            "14    1196\n",
            "19    1186\n",
            "23    1164\n",
            "8     1162\n",
            "20    1161\n",
            "13    1151\n",
            "2     1144\n",
            "0     1126\n",
            "24    1118\n",
            "10    1114\n",
            "6     1090\n",
            "15    1088\n",
            "21    1082\n",
            "12    1055\n",
            "7     1013\n",
            "1     1010\n",
            "4      957\n",
            "Name: label, dtype: int64\n",
            "Number of unique classes: 24\n"
          ]
        }
      ],
      "source": [
        "import pandas as pd\n",
        "import numpy as np\n",
        "# Load the CSV file\n",
        "data = pd.read_csv(\"C://Users//Lenovo//Downloads//archive (1)//sign_mnist_train.csv\")\n",
        "\n",
        "# Display the first few rows\n",
        "print(data.head())\n",
        "\n",
        "# Check the shape of the dataset\n",
        "print(f\"Dataset shape: {data.shape}\")\n",
        "\n",
        "# Check the distribution of classes\n",
        "print(\"Unique classes and their counts:\")\n",
        "print(data['label'].value_counts())\n",
        "\n",
        "# Determine the number of unique classes\n",
        "num_classes = data['label'].nunique()\n",
        "print(f\"Number of unique classes: {num_classes}\")\n"
      ]
    },
    {
      "cell_type": "code",
      "execution_count": null,
      "id": "8f4ac861",
      "metadata": {
        "id": "8f4ac861"
      },
      "outputs": [],
      "source": [
        "import numpy as np\n",
        "from sklearn.model_selection import train_test_split\n",
        "from sklearn.preprocessing import LabelBinarizer\n",
        "\n",
        "# Separate features and labels\n",
        "X = data.iloc[:, 1:].values\n",
        "y = data.iloc[:, 0].values\n",
        "\n",
        "# Normalize the pixel values to be between 0 and 1\n",
        "X = X / 255.0\n",
        "\n",
        "# Reshape the data to match the input shape of CNN\n",
        "\n",
        "\n",
        "\n",
        "X = X.reshape(-1, 28, 28, 1)\n",
        "\n",
        "# One-hot encode the labels\n",
        "lb = LabelBinarizer()\n",
        "y = lb.fit_transform(y)\n",
        "\n",
        "# Split the data into training and validation sets\n",
        "X_train, X_val, y_train, y_val = train_test_split(X, y, test_size=0.2, random_state=42)\n"
      ]
    },
    {
      "cell_type": "code",
      "execution_count": null,
      "id": "6f68492a",
      "metadata": {
        "id": "6f68492a",
        "outputId": "fbe9ef00-9985-4bb7-e702-46d6a955a3d7"
      },
      "outputs": [
        {
          "name": "stdout",
          "output_type": "stream",
          "text": [
            "Epoch 1/10\n",
            "687/687 [==============================] - 15s 20ms/step - loss: 1.0036 - accuracy: 0.6878 - val_loss: 0.1561 - val_accuracy: 0.9463\n",
            "Epoch 2/10\n",
            "687/687 [==============================] - 13s 19ms/step - loss: 0.0741 - accuracy: 0.9794 - val_loss: 0.0216 - val_accuracy: 0.9965\n",
            "Epoch 3/10\n",
            "687/687 [==============================] - 14s 20ms/step - loss: 0.0140 - accuracy: 0.9973 - val_loss: 0.0058 - val_accuracy: 0.9996\n",
            "Epoch 4/10\n",
            "687/687 [==============================] - 15s 21ms/step - loss: 0.0354 - accuracy: 0.9889 - val_loss: 0.0161 - val_accuracy: 0.9951\n",
            "Epoch 5/10\n",
            "687/687 [==============================] - 16s 23ms/step - loss: 0.0017 - accuracy: 0.9998 - val_loss: 4.5774e-04 - val_accuracy: 1.0000\n",
            "Epoch 6/10\n",
            "687/687 [==============================] - 16s 24ms/step - loss: 2.1875e-04 - accuracy: 1.0000 - val_loss: 2.5326e-04 - val_accuracy: 1.0000\n",
            "Epoch 7/10\n",
            "687/687 [==============================] - 17s 25ms/step - loss: 1.3593e-04 - accuracy: 1.0000 - val_loss: 2.5466e-04 - val_accuracy: 1.0000\n",
            "Epoch 8/10\n",
            "687/687 [==============================] - 15s 22ms/step - loss: 9.2811e-05 - accuracy: 1.0000 - val_loss: 1.9056e-04 - val_accuracy: 1.0000\n",
            "Epoch 9/10\n",
            "687/687 [==============================] - 15s 22ms/step - loss: 6.3929e-05 - accuracy: 1.0000 - val_loss: 1.3782e-04 - val_accuracy: 1.0000\n",
            "Epoch 10/10\n",
            "687/687 [==============================] - 14s 21ms/step - loss: 4.4648e-05 - accuracy: 1.0000 - val_loss: 9.9450e-05 - val_accuracy: 1.0000\n"
          ]
        }
      ],
      "source": [
        "# Assuming 24 gesture classes instead of 25\n",
        "model = models.Sequential([\n",
        "    layers.Conv2D(32, (3, 3), activation='relu', input_shape=(28, 28, 1)),\n",
        "    layers.MaxPooling2D((2, 2)),\n",
        "    layers.Conv2D(64, (3, 3), activation='relu'),\n",
        "    layers.MaxPooling2D((2, 2)),\n",
        "    layers.Conv2D(128, (3, 3), activation='relu'),\n",
        "    layers.Flatten(),\n",
        "    layers.Dense(128, activation='relu'),\n",
        "    layers.Dense(24, activation='softmax')  # Updated to 24 classes\n",
        "])\n",
        "\n",
        "model.compile(optimizer='adam',\n",
        "              loss='categorical_crossentropy',\n",
        "              metrics=['accuracy'])\n",
        "\n",
        "# Re-run the training\n",
        "history = model.fit(X_train, y_train, epochs=10,\n",
        "                    validation_data=(X_val, y_val))\n"
      ]
    },
    {
      "cell_type": "code",
      "execution_count": null,
      "id": "7afdce3b",
      "metadata": {
        "id": "7afdce3b",
        "outputId": "be8bdb12-d453-4545-cbaa-0d41b588fea6"
      },
      "outputs": [
        {
          "name": "stdout",
          "output_type": "stream",
          "text": [
            "172/172 [==============================] - 1s 8ms/step - loss: 9.9450e-05 - accuracy: 1.0000\n",
            "Validation accuracy: 1.0\n"
          ]
        }
      ],
      "source": [
        "# Evaluate the model\n",
        "val_loss, val_acc = model.evaluate(X_val, y_val)\n",
        "print(f\"Validation accuracy: {val_acc}\")"
      ]
    },
    {
      "cell_type": "code",
      "execution_count": null,
      "id": "e0ff4b56",
      "metadata": {
        "id": "e0ff4b56",
        "outputId": "39850468-8c5d-4eee-cd5d-da543dc11a47"
      },
      "outputs": [
        {
          "name": "stdout",
          "output_type": "stream",
          "text": [
            "1/1 [==============================] - 0s 169ms/step\n"
          ]
        },
        {
          "data": {
            "image/png": "[encoded data removed]",
            "text/plain": [
              "<Figure size 432x288 with 1 Axes>"
            ]
          },
          "metadata": {
            "needs_background": "light"
          },
          "output_type": "display_data"
        }
      ],
      "source": [
        "import matplotlib.pyplot as plt\n",
        "\n",
        "# Predict on a sample image from the validation set\n",
        "sample_image = X_val[0].reshape(1, 28, 28, 1)\n",
        "prediction = model.predict(sample_image)\n",
        "predicted_label = lb.inverse_transform(prediction)[0]\n",
        "\n",
        "# Display the image with the predicted label\n",
        "plt.imshow(X_val[0].reshape(28, 28), cmap='gray')\n",
        "plt.title(f\"Predicted Gesture: {predicted_label}\")\n",
        "plt.show()"
      ]
    },
    {
      "cell_type": "code",
      "execution_count": null,
      "id": "bab9b41e",
      "metadata": {
        "id": "bab9b41e",
        "outputId": "e4195e9a-131d-448b-d218-5ebe8a44c71a"
      },
      "outputs": [
        {
          "data": {
            "text/plain": [
              "<matplotlib.image.AxesImage at 0x24ac61856a0>"
            ]
          },
          "execution_count": 18,
          "metadata": {},
          "output_type": "execute_result"
        },
        {
          "data": {
            "image/png": "[encoded data removed]",
            "text/plain": [
              "<Figure size 432x288 with 1 Axes>"
            ]
          },
          "metadata": {
            "needs_background": "light"
          },
          "output_type": "display_data"
        }
      ],
      "source": [
        "plt.imshow(X_val[5].reshape(28, 28), cmap='gray')"
      ]
    }
  ],
  "metadata": {
    "kernelspec": {
      "display_name": "Python 3 (ipykernel)",
      "language": "python",
      "name": "python3"
    },
    "language_info": {
      "codemirror_mode": {
        "name": "ipython",
        "version": 3
      },
      "file_extension": ".py",
      "mimetype": "text/x-python",
      "name": "python",
      "nbconvert_exporter": "python",
      "pygments_lexer": "ipython3",
      "version": "3.9.12"
    },
    "colab": {
      "provenance": []
    }
  },
  "nbformat": 4,
  "nbformat_minor": 5
}